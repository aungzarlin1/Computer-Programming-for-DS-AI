{
 "cells": [
  {
   "cell_type": "markdown",
   "id": "3dab7add",
   "metadata": {},
   "source": [
    "## Assignment 2\n"
   ]
  },
  {
   "cell_type": "code",
   "execution_count": 1,
   "id": "496cc4a4",
   "metadata": {},
   "outputs": [],
   "source": [
    "import numpy as np\n",
    "import matplotlib.pyplot as plt\n",
    "from sklearn import linear_model\n",
    "from sklearn.datasets import make_classification, make_blobs\n",
    "from sklearn.model_selection import train_test_split\n",
    "from sklearn.preprocessing import StandardScaler\n",
    "\n",
    "X, y = make_blobs(n_samples=500, centers=2, n_features=2, random_state=0)\n",
    "\n",
    "scaler = StandardScaler()\n",
    "X = scaler.fit_transform(X)\n",
    "\n",
    "X_train, X_test, y_train, y_test = train_test_split(X, y, test_size=0.3, random_state=1)\n",
    "\n",
    "intercept = np.ones((X_train.shape[0], 1))\n",
    "X_train = np.concatenate((intercept, X_train), axis=1)\n",
    "intercept = np.ones((X_test.shape[0], 1))\n",
    "X_test = np.concatenate((intercept, X_test), axis=1)\n",
    "\n",
    "\n",
    "class LogisticRegression:\n",
    "    \n",
    "    def __init__(self, method='mini-batch',max_iter=1000, alpha=0.001):\n",
    "        self.method = method\n",
    "        self.max_iter = max_iter\n",
    "        self.alpha = alpha\n",
    "    \n",
    "    def mini_batch_GD(self,X,y):\n",
    "        \n",
    "        self.w = np.zeros(X.shape[1])\n",
    "        \n",
    "        self.loss = []\n",
    "        self.iters = []\n",
    "        \n",
    "        batch_size = int(0.1 * X.shape[0])\n",
    "        \n",
    "        for i in range(self.max_iter):\n",
    "            \n",
    "            shuffled_index = np.random.permutation(X.shape[0])\n",
    "            X_shuffled = X[shuffled_index]\n",
    "            y_shuffled = y[shuffled_index]\n",
    "            \n",
    "            for index in range(0, X.shape[0], batch_size):\n",
    "                \n",
    "                batch_X = X_shuffled[index : index + batch_size]\n",
    "                batch_y = y_shuffled[index : index + batch_size]\n",
    "                \n",
    "                cost, grad = self.gradient(batch_X, batch_y, self.w)\n",
    "                self.w =self. w - self.alpha * grad\n",
    "                \n",
    "            if i % 500 ==0:\n",
    "                print(f\"Cost at iteration {i}\", cost)\n",
    "                self.loss.append(cost)\n",
    "                self.iters.append(i)\n",
    "                \n",
    "        return self.w, i\n",
    "    \n",
    "    def plot(self):\n",
    "        plt.plot(self.iters, self.loss, label='Training Losses')\n",
    "        plt.xlabel('num of iters')\n",
    "        plt.ylabel('training loss')\n",
    "        plt.title('Training loss vs number of iters')\n",
    "        plt.legend()\n",
    "    \n",
    "    def gradient(self, X, y, w):\n",
    "        m = X.shape[0]\n",
    "        h = self.h_theta(X)\n",
    "        error = h - y\n",
    "        cost = -np.sum(y * np.log(h) + (1 - y) * np.log(1 - h))\n",
    "        grad = np.dot(X.T, error)\n",
    "        return cost, grad\n",
    "    \n",
    "    def sigmoid(self, x):\n",
    "        return 1 / (1 + np.exp(-x))\n",
    "    \n",
    "    def h_theta(self,X):\n",
    "        return self.sigmoid(X @ self.w)\n",
    "    \n",
    "    def output(self, pred):\n",
    "        return np.round(pred)\n",
    "    "
   ]
  },
  {
   "cell_type": "code",
   "execution_count": 2,
   "id": "3c9630d5",
   "metadata": {},
   "outputs": [
    {
     "name": "stdout",
     "output_type": "stream",
     "text": [
      "Cost at iteration 0 21.761211016612794\n",
      "Cost at iteration 500 2.732853443922803\n",
      "Cost at iteration 1000 3.4857555395728452\n",
      "Cost at iteration 1500 5.794505921628087\n",
      "Cost at iteration 2000 2.4346841950408145\n",
      "Cost at iteration 2500 0.9984842649852878\n",
      "Cost at iteration 3000 1.793826804806389\n",
      "Cost at iteration 3500 5.70734317963625\n",
      "Cost at iteration 4000 3.713267363262249\n",
      "Cost at iteration 4500 5.851043126845406\n",
      "Cost at iteration 5000 2.9467931040383277\n",
      "Cost at iteration 5500 7.295422978876912\n",
      "Cost at iteration 6000 0.8911651595005248\n",
      "Cost at iteration 6500 1.1067169031786523\n",
      "Cost at iteration 7000 2.3920048865506294\n",
      "Cost at iteration 7500 4.106186457383426\n",
      "Cost at iteration 8000 1.971537935248564\n",
      "Cost at iteration 8500 4.30460976305859\n",
      "Cost at iteration 9000 2.6073166090309665\n",
      "Cost at iteration 9500 4.06078849144747\n",
      "Cost at iteration 10000 2.9275929791917665\n",
      "Cost at iteration 10500 2.803301244980515\n",
      "Cost at iteration 11000 0.26749378261578843\n",
      "Cost at iteration 11500 0.6611934165111095\n",
      "Cost at iteration 12000 0.38717766227055234\n",
      "Cost at iteration 12500 0.2937558121323952\n",
      "Cost at iteration 13000 1.082558185023146\n",
      "Cost at iteration 13500 0.7331606078599022\n",
      "Cost at iteration 14000 3.2772253980539445\n",
      "Cost at iteration 14500 2.980849400834891\n",
      "Cost at iteration 15000 7.990490498871983\n",
      "Cost at iteration 15500 1.4507098656163278\n",
      "Cost at iteration 16000 4.67505210857824\n",
      "Cost at iteration 16500 1.6435567029081728\n",
      "Cost at iteration 17000 2.6035703555727983\n",
      "Cost at iteration 17500 6.441872244366586\n",
      "Cost at iteration 18000 4.032701423781059\n",
      "Cost at iteration 18500 1.0039597474810795\n",
      "Cost at iteration 19000 0.7313776835175009\n",
      "Cost at iteration 19500 2.4078715219895868\n"
     ]
    }
   ],
   "source": [
    "model = LogisticRegression(max_iter=20000)\n",
    "w, i = model.mini_batch_GD(X_train, y_train)"
   ]
  },
  {
   "cell_type": "code",
   "execution_count": 3,
   "id": "11559681",
   "metadata": {},
   "outputs": [
    {
     "data": {
      "image/png": "[encoded data removed]",
      "text/plain": [
       "<Figure size 432x288 with 1 Axes>"
      ]
     },
     "metadata": {
      "needs_background": "light"
     },
     "output_type": "display_data"
    }
   ],
   "source": [
    "model.plot()"
   ]
  },
  {
   "cell_type": "code",
   "execution_count": 4,
   "id": "56ae914c",
   "metadata": {},
   "outputs": [
    {
     "data": {
      "text/plain": [
       "array([1., 0., 1., 1., 1., 0., 1., 0., 0., 0., 1., 1., 0., 0., 1., 1., 1.,\n",
       "       0., 1., 0., 0., 0., 1., 0., 1., 1., 0., 1., 1., 0., 0., 0., 0., 0.,\n",
       "       1., 0., 0., 1., 1., 1., 1., 0., 1., 0., 1., 0., 1., 0., 0., 1., 1.,\n",
       "       0., 0., 1., 0., 0., 1., 0., 1., 0., 1., 0., 0., 0., 0., 1., 1., 0.,\n",
       "       0., 1., 1., 0., 1., 1., 0., 1., 0., 0., 1., 0., 0., 1., 1., 0., 0.,\n",
       "       1., 1., 0., 1., 0., 0., 0., 1., 0., 0., 0., 0., 1., 0., 1., 0., 0.,\n",
       "       1., 0., 0., 1., 0., 1., 1., 1., 0., 1., 0., 1., 0., 1., 1., 1., 0.,\n",
       "       1., 0., 0., 1., 1., 1., 0., 1., 0., 0., 1., 1., 1., 1., 0., 1., 1.,\n",
       "       0., 0., 1., 0., 0., 0., 0., 0., 1., 0., 1., 0., 0., 0.])"
      ]
     },
     "execution_count": 4,
     "metadata": {},
     "output_type": "execute_result"
    }
   ],
   "source": [
    "yhat = model.h_theta(X_test)\n",
    "y_pred = model.output(yhat)\n",
    "y_pred"
   ]
  },
  {
   "cell_type": "code",
   "execution_count": 5,
   "id": "05032fc2",
   "metadata": {},
   "outputs": [],
   "source": [
    "class classification_report:\n",
    "    \n",
    "    def __init__(self, actual, predict):\n",
    "        self.actual = actual\n",
    "        self.predict = predict\n",
    "        \n",
    "        self.TP = sum((self.actual == 1) & (self.predict == 1))\n",
    "        self.TN = sum((self.actual == 0) & (self.predict == 0))\n",
    "        self.FP = sum((self.actual == 0) & (self.predict ==1))\n",
    "        self.FN = sum((self.actual == 1) & (self.predict == 0))\n",
    "    \n",
    "    def accuracy(self):\n",
    "        self.acc = (self.TP + self.TN) / float(self.TP + self.TN + self.FP + self.FN)\n",
    "        return self.acc\n",
    "    \n",
    "    def precision(self):\n",
    "        self.pre = self.TP / float(self.TP + self.FP)\n",
    "        return self.pre\n",
    "    \n",
    "    def recall(self):\n",
    "        self.rec = self.TP / float(self.TP + self.FN)\n",
    "        return self.rec\n",
    "    \n",
    "    def f1(self):\n",
    "        self.F1 = 2 * (self.precision() * self.recall()) / (self.precision() + self.recall())\n",
    "        return self.F1"
   ]
  },
  {
   "cell_type": "code",
   "execution_count": 6,
   "id": "058fbb15",
   "metadata": {},
   "outputs": [
    {
     "name": "stdout",
     "output_type": "stream",
     "text": [
      "accuracy:  0.95\n",
      "recall:  0.94\n",
      "precision:  0.96\n",
      "f1:  0.95\n"
     ]
    }
   ],
   "source": [
    "report = classification_report(y_test, y_pred)\n",
    "accuracy = report.accuracy()\n",
    "recall = report.recall()\n",
    "precision = report.precision()\n",
    "f1 = report.f1()\n",
    "print(f\"accuracy: \", round(accuracy, 2))\n",
    "print(\"recall: \", round(recall, 2))\n",
    "print(\"precision: \", round(precision, 2))\n",
    "print(\"f1: \", round(f1, 2))"
   ]
  },
  {
   "cell_type": "code",
   "execution_count": null,
   "id": "4f46b6f6",
   "metadata": {},
   "outputs": [],
   "source": []
  }
 ],
 "metadata": {
  "kernelspec": {
   "display_name": "pythonDSAI",
   "language": "python",
   "name": "pythondsai"
  },
  "language_info": {
   "codemirror_mode": {
    "name": "ipython",
    "version": 3
   },
   "file_extension": ".py",
   "mimetype": "text/x-python",
   "name": "python",
   "nbconvert_exporter": "python",
   "pygments_lexer": "ipython3",
   "version": "3.8.3"
  }
 },
 "nbformat": 4,
 "nbformat_minor": 5
}
