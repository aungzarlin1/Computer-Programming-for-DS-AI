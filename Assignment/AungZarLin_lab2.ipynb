{
 "cells": [
  {
   "cell_type": "markdown",
   "id": "3dab7add",
   "metadata": {},
   "source": [
    "## Assignment 2\n"
   ]
  },
  {
   "cell_type": "code",
   "execution_count": 1,
   "id": "496cc4a4",
   "metadata": {},
   "outputs": [],
   "source": [
    "import numpy as np\n",
    "import matplotlib.pyplot as plt\n",
    "from sklearn import linear_model\n",
    "from sklearn.datasets import make_classification, make_blobs\n",
    "from sklearn.model_selection import train_test_split\n",
    "from sklearn.preprocessing import StandardScaler\n",
    "\n",
    "X, y = make_blobs(n_samples=500, centers=2, n_features=2, random_state=0)\n",
    "\n",
    "scaler = StandardScaler()\n",
    "X = scaler.fit_transform(X)\n",
    "\n",
    "X_train, X_test, y_train, y_test = train_test_split(X, y, test_size=0.3, random_state=1)\n",
    "\n",
    "intercept = np.ones((X_train.shape[0], 1))\n",
    "X_train = np.concatenate((intercept, X_train), axis=1)\n",
    "intercept = np.ones((X_test.shape[0], 1))\n",
    "X_test = np.concatenate((intercept, X_test), axis=1)\n",
    "\n",
    "\n",
    "class LogisticRegression:\n",
    "    \n",
    "    def __init__(self, method='mini-batch',max_iter=1000, alpha=0.001):\n",
    "        self.method = method\n",
    "        self.max_iter = max_iter\n",
    "        self.alpha = alpha\n",
    "    \n",
    "    def mini_batch_GD(self,X,y):\n",
    "        \n",
    "        self.w = np.zeros(X.shape[1])\n",
    "        \n",
    "        self.loss = []\n",
    "        self.iters = []\n",
    "        \n",
    "        batch_size = int(0.1 * X.shape[0])\n",
    "        \n",
    "        for i in range(self.max_iter):\n",
    "            \n",
    "            shuffled_index = np.random.permutation(X.shape[0])\n",
    "            X_shuffled = X[shuffled_index]\n",
    "            y_shuffled = y[shuffled_index]\n",
    "            \n",
    "            for index in range(0, X.shape[0], batch_size):\n",
    "                \n",
    "                batch_X = X_shuffled[index : index + batch_size]\n",
    "                batch_y = y_shuffled[index : index + batch_size]\n",
    "                \n",
    "                cost, grad = self.gradient(batch_X, batch_y, self.w)\n",
    "                self.w =self. w - self.alpha * grad\n",
    "                \n",
    "            if i % 500 ==0:\n",
    "                print(f\"Cost at iteration {i}\", cost)\n",
    "                self.loss.append(cost)\n",
    "                self.iters.append(i)\n",
    "                \n",
    "        return self.w, i\n",
    "    \n",
    "    def plot(self):\n",
    "        plt.plot(self.iters, self.loss, label='Training Losses')\n",
    "        plt.xlabel('num of iters')\n",
    "        plt.ylabel('training loss')\n",
    "        plt.title('Training loss vs number of iters')\n",
    "        plt.legend()\n",
    "    \n",
    "    def gradient(self, X, y, w):\n",
    "        m = X.shape[0]\n",
    "        h = self.h_theta(X)\n",
    "        error = h - y\n",
    "        cost = -np.sum(y * np.log(h) + (1 - y) * np.log(1 - h))\n",
    "        grad = np.dot(X.T, error)\n",
    "        return cost, grad\n",
    "    \n",
    "    def sigmoid(self, x):\n",
    "        return 1 / (1 + np.exp(-x))\n",
    "    \n",
    "    def h_theta(self,X):\n",
    "        return self.sigmoid(X @ self.w)\n",
    "    \n",
    "    def output(self, pred):\n",
    "        return np.round(pred)\n",
    "    "
   ]
  },
  {
   "cell_type": "code",
   "execution_count": 2,
   "id": "3c9630d5",
   "metadata": {},
   "outputs": [
    {
     "name": "stdout",
     "output_type": "stream",
     "text": [
      "Cost at iteration 0 21.907487463630055\n",
      "Cost at iteration 500 5.505438047179735\n",
      "Cost at iteration 1000 3.81617812004593\n",
      "Cost at iteration 1500 3.5767404670554668\n",
      "Cost at iteration 2000 0.988368150477158\n",
      "Cost at iteration 2500 6.090589370297445\n",
      "Cost at iteration 3000 5.86974773238694\n",
      "Cost at iteration 3500 6.257650676650426\n",
      "Cost at iteration 4000 0.9615063959993958\n",
      "Cost at iteration 4500 0.12186141793811396\n",
      "Cost at iteration 5000 3.6423524918331576\n",
      "Cost at iteration 5500 9.66976349767411\n",
      "Cost at iteration 6000 2.1060596748277303\n",
      "Cost at iteration 6500 3.6183372820623116\n",
      "Cost at iteration 7000 4.4049117068074\n",
      "Cost at iteration 7500 2.725044617659069\n",
      "Cost at iteration 8000 1.8796949441948754\n",
      "Cost at iteration 8500 6.438385331615185\n",
      "Cost at iteration 9000 1.705128116939345\n",
      "Cost at iteration 9500 2.2806361348728963\n",
      "Cost at iteration 10000 3.6703608300034443\n",
      "Cost at iteration 10500 5.287707679315809\n",
      "Cost at iteration 11000 6.8404006369448584\n",
      "Cost at iteration 11500 1.479063039713326\n",
      "Cost at iteration 12000 2.031911612928866\n",
      "Cost at iteration 12500 6.392304318137028\n",
      "Cost at iteration 13000 3.6427342175685835\n",
      "Cost at iteration 13500 5.019267579574861\n",
      "Cost at iteration 14000 2.086776953282082\n",
      "Cost at iteration 14500 7.750952832214951\n",
      "Cost at iteration 15000 1.0497948152890786\n",
      "Cost at iteration 15500 1.5690255717578472\n",
      "Cost at iteration 16000 1.171590414461086\n",
      "Cost at iteration 16500 3.9464860643125257\n",
      "Cost at iteration 17000 1.3494719903810262\n",
      "Cost at iteration 17500 2.8819629882119644\n",
      "Cost at iteration 18000 1.553339866596163\n",
      "Cost at iteration 18500 3.344409640194318\n",
      "Cost at iteration 19000 3.027270212056674\n",
      "Cost at iteration 19500 7.9136724421473215\n"
     ]
    }
   ],
   "source": [
    "model = LogisticRegression(max_iter=20000)\n",
    "w, i = model.mini_batch_GD(X_train, y_train)"
   ]
  },
  {
   "cell_type": "code",
   "execution_count": 3,
   "id": "11559681",
   "metadata": {},
   "outputs": [
    {
     "data": {
      "image/png": "[encoded data removed]",
      "text/plain": [
       "<Figure size 432x288 with 1 Axes>"
      ]
     },
     "metadata": {
      "needs_background": "light"
     },
     "output_type": "display_data"
    }
   ],
   "source": [
    "model.plot()"
   ]
  },
  {
   "cell_type": "code",
   "execution_count": 4,
   "id": "56ae914c",
   "metadata": {},
   "outputs": [
    {
     "data": {
      "text/plain": [
       "array([1., 0., 1., 1., 1., 0., 1., 0., 0., 0., 1., 1., 0., 0., 1., 1., 1.,\n",
       "       0., 1., 0., 0., 0., 1., 0., 1., 1., 0., 1., 1., 0., 0., 0., 0., 0.,\n",
       "       1., 0., 0., 1., 1., 1., 1., 0., 1., 0., 1., 0., 1., 0., 0., 1., 1.,\n",
       "       0., 0., 1., 0., 0., 1., 0., 1., 0., 1., 0., 0., 0., 0., 1., 1., 0.,\n",
       "       0., 1., 1., 0., 1., 1., 0., 1., 0., 0., 1., 0., 0., 1., 1., 0., 0.,\n",
       "       1., 1., 0., 1., 0., 0., 0., 1., 0., 0., 0., 0., 1., 0., 1., 0., 0.,\n",
       "       1., 0., 0., 1., 0., 1., 1., 1., 0., 1., 0., 1., 0., 1., 1., 1., 0.,\n",
       "       1., 0., 0., 1., 1., 1., 0., 1., 0., 0., 1., 1., 1., 1., 0., 1., 1.,\n",
       "       0., 0., 1., 0., 0., 0., 0., 0., 1., 0., 1., 0., 0., 0.])"
      ]
     },
     "execution_count": 4,
     "metadata": {},
     "output_type": "execute_result"
    }
   ],
   "source": [
    "yhat = model.h_theta(X_test)\n",
    "y_pred = model.output(yhat)\n",
    "y_pred"
   ]
  },
  {
   "cell_type": "code",
   "execution_count": 5,
   "id": "05032fc2",
   "metadata": {},
   "outputs": [],
   "source": [
    "class classification_report:\n",
    "    \n",
    "    def __init__(self, actual, predict):\n",
    "        self.actual = actual\n",
    "        self.predict = predict\n",
    "        \n",
    "        self.TP = sum((self.actual == 1) & (self.predict == 1))\n",
    "        self.TN = sum((self.actual == 0) & (self.predict == 0))\n",
    "        self.FP = sum((self.actual == 0) & (self.predict ==1))\n",
    "        self.FN = sum((self.actual == 1) & (self.predict == 0))\n",
    "    \n",
    "    def accuracy(self):\n",
    "        self.acc = (self.TP + self.TN) / (self.TP + self.TN + self.FP + self.FN)\n",
    "        return self.acc\n",
    "    \n",
    "    def precision(self):\n",
    "        self.pre = self.TP / (self.TP + self.FP)\n",
    "        return self.pre\n",
    "    \n",
    "    def recall(self):\n",
    "        self.rec = self.TP / (self.TP + self.FN)\n",
    "        return self.rec\n",
    "    \n",
    "    def f1(self):\n",
    "        self.F1 = 2 * (self.precision() * self.recall()) / (self.precision() + self.recall())\n",
    "        return self.F1"
   ]
  },
  {
   "cell_type": "code",
   "execution_count": 6,
   "id": "058fbb15",
   "metadata": {},
   "outputs": [
    {
     "name": "stdout",
     "output_type": "stream",
     "text": [
      "accuracy:  0.95\n",
      "recall:  0.94\n",
      "precision:  0.96\n",
      "f1:  0.95\n"
     ]
    }
   ],
   "source": [
    "report = classification_report(y_test, y_pred)\n",
    "accuracy = report.accuracy()\n",
    "recall = report.recall()\n",
    "precision = report.precision()\n",
    "f1 = report.f1()\n",
    "print(\"accuracy: \", round(accuracy, 2))\n",
    "print(\"recall: \", round(recall, 2))\n",
    "print(\"precision: \", round(precision, 2))\n",
    "print(\"f1: \", round(f1, 2))"
   ]
  },
  {
   "cell_type": "code",
   "execution_count": null,
   "id": "4f46b6f6",
   "metadata": {},
   "outputs": [],
   "source": []
  }
 ],
 "metadata": {
  "kernelspec": {
   "display_name": "pythonDSAI",
   "language": "python",
   "name": "pythondsai"
  },
  "language_info": {
   "codemirror_mode": {
    "name": "ipython",
    "version": 3
   },
   "file_extension": ".py",
   "mimetype": "text/x-python",
   "name": "python",
   "nbconvert_exporter": "python",
   "pygments_lexer": "ipython3",
   "version": "3.8.3"
  }
 },
 "nbformat": 4,
 "nbformat_minor": 5
}
