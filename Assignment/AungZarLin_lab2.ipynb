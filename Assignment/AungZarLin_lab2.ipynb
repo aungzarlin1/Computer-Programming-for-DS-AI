{
 "cells": [
  {
   "cell_type": "markdown",
   "id": "3dab7add",
   "metadata": {},
   "source": [
    "## Assignment 2\n"
   ]
  },
  {
   "cell_type": "code",
   "execution_count": 1,
   "id": "496cc4a4",
   "metadata": {},
   "outputs": [],
   "source": [
    "import numpy as np\n",
    "import matplotlib.pyplot as plt\n",
    "from sklearn import linear_model\n",
    "from sklearn.datasets import make_classification, make_blobs\n",
    "from sklearn.model_selection import train_test_split\n",
    "from sklearn.preprocessing import StandardScaler\n",
    "\n",
    "X, y = make_blobs(n_samples=500, centers=2, n_features=2, random_state=0)\n",
    "\n",
    "scaler = StandardScaler()\n",
    "X = scaler.fit_transform(X)\n",
    "\n",
    "X_train, X_test, y_train, y_test = train_test_split(X, y, test_size=0.3, random_state=1)\n",
    "\n",
    "intercept = np.ones((X_train.shape[0], 1))\n",
    "X_train = np.concatenate((intercept, X_train), axis=1)\n",
    "intercept = np.ones((X_test.shape[0], 1))\n",
    "X_test = np.concatenate((intercept, X_test), axis=1)\n",
    "\n",
    "\n",
    "class LogisticRegression:\n",
    "    \n",
    "    def __init__(self, method='mini-batch',max_iter=1000, alpha=0.001):\n",
    "        self.method = method\n",
    "        self.max_iter = max_iter\n",
    "        self.alpha = alpha\n",
    "    \n",
    "    def mini_batch_GD(self,X,y):\n",
    "        \n",
    "        self.w = np.zeros(X.shape[1])\n",
    "        \n",
    "        self.loss = []\n",
    "        self.iters = []\n",
    "        \n",
    "        batch_size = int(0.1 * X.shape[0])\n",
    "        \n",
    "        for i in range(self.max_iter):\n",
    "            \n",
    "            shuffled_index = np.random.permutation(X.shape[0])\n",
    "            X_shuffled = X[shuffled_index]\n",
    "            y_shuffled = y[shuffled_index]\n",
    "            \n",
    "            for index in range(0, X.shape[0], batch_size):\n",
    "                \n",
    "                batch_X = X_shuffled[index : index + batch_size]\n",
    "                batch_y = y_shuffled[index : index + batch_size]\n",
    "                \n",
    "                cost, grad = self.gradient(batch_X, batch_y, self.w)\n",
    "                self.w =self. w - self.alpha * grad\n",
    "                \n",
    "            if i % 500 ==0:\n",
    "                print(f\"Cost at iteration {i}\", cost)\n",
    "                self.loss.append(cost)\n",
    "                self.iters.append(i)\n",
    "                \n",
    "        return self.w, i\n",
    "    \n",
    "    def plot(self):\n",
    "        plt.plot(self.iters, self.loss, label='Training Losses')\n",
    "        plt.xlabel('num of iters')\n",
    "        plt.ylabel('training loss')\n",
    "        plt.title('Training loss vs number of iters')\n",
    "        plt.legend()\n",
    "    \n",
    "    def gradient(self, X, y, w):\n",
    "        m = X.shape[0]\n",
    "        h = self.h_theta(X)\n",
    "        error = h - y\n",
    "        cost = -np.sum(y * np.log(h) + (1 - y) * np.log(1 - h))\n",
    "        grad = np.dot(X.T, error)\n",
    "        return cost, grad\n",
    "    \n",
    "    def sigmoid(self, x):\n",
    "        return 1 / (1 + np.exp(-x))\n",
    "    \n",
    "    def h_theta(self,X):\n",
    "        return self.sigmoid(X @ self.w)\n",
    "    \n",
    "    def output(self, pred):\n",
    "        return np.round(pred)\n",
    "    "
   ]
  },
  {
   "cell_type": "code",
   "execution_count": 2,
   "id": "3c9630d5",
   "metadata": {},
   "outputs": [
    {
     "name": "stdout",
     "output_type": "stream",
     "text": [
      "Cost at iteration 0 21.823607888045277\n",
      "Cost at iteration 500 5.193204836615287\n",
      "Cost at iteration 1000 6.144294967066297\n",
      "Cost at iteration 1500 8.186155873924998\n",
      "Cost at iteration 2000 4.77547167190032\n",
      "Cost at iteration 2500 5.842047043158074\n",
      "Cost at iteration 3000 2.080813007668685\n",
      "Cost at iteration 3500 9.670748539017627\n",
      "Cost at iteration 4000 1.2407035035675786\n",
      "Cost at iteration 4500 5.397073473752706\n",
      "Cost at iteration 5000 0.17450976175330424\n",
      "Cost at iteration 5500 1.4321333285722515\n",
      "Cost at iteration 6000 1.4285612194594979\n",
      "Cost at iteration 6500 0.3474046024985202\n",
      "Cost at iteration 7000 2.1839565540281183\n",
      "Cost at iteration 7500 3.5457849119571807\n",
      "Cost at iteration 8000 5.158126373711129\n",
      "Cost at iteration 8500 1.2449523856460094\n",
      "Cost at iteration 9000 4.008972817848466\n",
      "Cost at iteration 9500 1.155592865627422\n",
      "Cost at iteration 10000 2.091882455182171\n",
      "Cost at iteration 10500 2.2622309394780054\n",
      "Cost at iteration 11000 5.523611529647483\n",
      "Cost at iteration 11500 1.0328201844425333\n",
      "Cost at iteration 12000 2.2591992105207868\n",
      "Cost at iteration 12500 7.421485923425653\n",
      "Cost at iteration 13000 5.072663028588839\n",
      "Cost at iteration 13500 2.221846760717646\n",
      "Cost at iteration 14000 2.695924045548382\n",
      "Cost at iteration 14500 4.238956560621553\n",
      "Cost at iteration 15000 6.538669604144886\n",
      "Cost at iteration 15500 1.1731195993654704\n",
      "Cost at iteration 16000 1.356108902510319\n",
      "Cost at iteration 16500 4.326954503881501\n",
      "Cost at iteration 17000 6.74125018922515\n",
      "Cost at iteration 17500 1.7869941471143311\n",
      "Cost at iteration 18000 4.187572202708033\n",
      "Cost at iteration 18500 1.4445691029282648\n",
      "Cost at iteration 19000 4.290834348752817\n",
      "Cost at iteration 19500 2.4160149136455487\n"
     ]
    }
   ],
   "source": [
    "model = LogisticRegression(max_iter=20000)\n",
    "w, i = model.mini_batch_GD(X_train, y_train)"
   ]
  },
  {
   "cell_type": "code",
   "execution_count": 3,
   "id": "11559681",
   "metadata": {},
   "outputs": [
    {
     "data": {
      "image/png": "[encoded data removed]",
      "text/plain": [
       "<Figure size 432x288 with 1 Axes>"
      ]
     },
     "metadata": {
      "needs_background": "light"
     },
     "output_type": "display_data"
    }
   ],
   "source": [
    "model.plot()"
   ]
  },
  {
   "cell_type": "code",
   "execution_count": 4,
   "id": "56ae914c",
   "metadata": {},
   "outputs": [
    {
     "data": {
      "text/plain": [
       "array([1., 0., 1., 1., 1., 0., 1., 0., 0., 0., 1., 1., 0., 0., 1., 1., 1.,\n",
       "       0., 1., 0., 0., 0., 1., 0., 1., 1., 0., 1., 1., 0., 0., 0., 0., 0.,\n",
       "       1., 0., 0., 1., 1., 1., 1., 0., 1., 0., 1., 0., 1., 0., 0., 1., 1.,\n",
       "       0., 0., 1., 0., 0., 1., 0., 1., 0., 1., 0., 0., 0., 0., 1., 1., 0.,\n",
       "       0., 1., 1., 0., 1., 1., 0., 1., 0., 0., 1., 0., 0., 1., 1., 0., 0.,\n",
       "       1., 1., 0., 1., 0., 0., 0., 1., 0., 0., 0., 0., 1., 0., 1., 0., 0.,\n",
       "       1., 0., 0., 1., 0., 1., 1., 1., 0., 1., 0., 1., 0., 1., 1., 1., 0.,\n",
       "       1., 0., 0., 1., 1., 1., 0., 1., 0., 0., 1., 1., 1., 1., 0., 1., 1.,\n",
       "       0., 0., 1., 0., 0., 0., 0., 0., 1., 0., 1., 0., 0., 0.])"
      ]
     },
     "execution_count": 4,
     "metadata": {},
     "output_type": "execute_result"
    }
   ],
   "source": [
    "yhat = model.h_theta(X_test)\n",
    "y_pred = model.output(yhat)\n",
    "y_pred"
   ]
  },
  {
   "cell_type": "code",
   "execution_count": 5,
   "id": "05032fc2",
   "metadata": {},
   "outputs": [],
   "source": [
    "class classification_report:\n",
    "    \n",
    "    def __init__(self, actual, predict):\n",
    "        self.actual = actual\n",
    "        self.predict = predict\n",
    "        \n",
    "        self.TP = sum((self.actual == 1) & (self.predict == 1))\n",
    "        self.TN = sum((self.actual == 0) & (self.predict == 0))\n",
    "        self.FP = sum((self.actual == 0) & (self.predict ==1))\n",
    "        self.FN = sum((self.actual == 1) & (self.predict == 0))\n",
    "    \n",
    "    def accuracy(self):\n",
    "        self.acc = (self.TP + self.TN) / float(self.TP + self.TN + self.FP + self.FN)\n",
    "        return self.acc\n",
    "    \n",
    "    def precision(self):\n",
    "        self.pre = self.TP / float(self.TP + self.FP)\n",
    "        return self.pre\n",
    "    \n",
    "    def recall(self):\n",
    "        self.rec = self.TP / float(self.TP + self.FN)\n",
    "        return self.rec\n",
    "    \n",
    "    def f1(self):\n",
    "        self.F1 = 2 * (self.precision() * self.recall()) / (self.precision() + self.recall())\n",
    "        return self.F1"
   ]
  },
  {
   "cell_type": "code",
   "execution_count": 6,
   "id": "058fbb15",
   "metadata": {},
   "outputs": [
    {
     "name": "stdout",
     "output_type": "stream",
     "text": [
      "accuracy: 0.9533333333333334\n",
      "recall: 0.9436619718309859\n",
      "precision: 0.9436619718309859\n",
      "f1: 0.9503546099290779\n"
     ]
    }
   ],
   "source": [
    "report = classification_report(y_test, y_pred)\n",
    "accuracy = report.accuracy()\n",
    "recall = report.recall()\n",
    "precision = report.precision()\n",
    "f1 = report.f1()\n",
    "print(f\"accuracy: {accuracy}\")\n",
    "print(f\"recall: {recall}\")\n",
    "print(f\"precision: {recall}\")\n",
    "print(f\"f1: {f1}\")"
   ]
  },
  {
   "cell_type": "code",
   "execution_count": 7,
   "id": "4f46b6f6",
   "metadata": {},
   "outputs": [
    {
     "name": "stdout",
     "output_type": "stream",
     "text": [
      "Report:                precision    recall  f1-score   support\n",
      "\n",
      "           0       0.95      0.96      0.96        79\n",
      "           1       0.96      0.94      0.95        71\n",
      "\n",
      "    accuracy                           0.95       150\n",
      "   macro avg       0.95      0.95      0.95       150\n",
      "weighted avg       0.95      0.95      0.95       150\n",
      "\n"
     ]
    }
   ],
   "source": [
    "# checking wherethere it is correct or not\n",
    "from sklearn.metrics import classification_report\n",
    "print(\"Report: \", classification_report(y_test, y_pred))"
   ]
  },
  {
   "cell_type": "code",
   "execution_count": null,
   "id": "7137393b",
   "metadata": {},
   "outputs": [],
   "source": []
  }
 ],
 "metadata": {
  "kernelspec": {
   "display_name": "pythonDSAI",
   "language": "python",
   "name": "pythondsai"
  },
  "language_info": {
   "codemirror_mode": {
    "name": "ipython",
    "version": 3
   },
   "file_extension": ".py",
   "mimetype": "text/x-python",
   "name": "python",
   "nbconvert_exporter": "python",
   "pygments_lexer": "ipython3",
   "version": "3.8.3"
  }
 },
 "nbformat": 4,
 "nbformat_minor": 5
}
