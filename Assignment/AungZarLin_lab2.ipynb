{
 "cells": [
  {
   "cell_type": "markdown",
   "id": "3dab7add",
   "metadata": {},
   "source": [
    "## Assignment 2\n"
   ]
  },
  {
   "cell_type": "code",
   "execution_count": 1,
   "id": "496cc4a4",
   "metadata": {},
   "outputs": [],
   "source": [
    "import numpy as np\n",
    "import matplotlib.pyplot as plt\n",
    "from sklearn import linear_model\n",
    "from sklearn.datasets import make_classification, make_blobs\n",
    "from sklearn.model_selection import train_test_split\n",
    "from sklearn.preprocessing import StandardScaler\n",
    "\n",
    "X, y = make_blobs(n_samples=500, centers=2, n_features=2, random_state=0)\n",
    "\n",
    "scaler = StandardScaler()\n",
    "X = scaler.fit_transform(X)\n",
    "\n",
    "X_train, X_test, y_train, y_test = train_test_split(X, y, test_size=0.3)\n",
    "\n",
    "intercept = np.ones((X_train.shape[0], 1))\n",
    "X_train = np.concatenate((intercept, X_train), axis=1)\n",
    "intercept = np.ones((X_test.shape[0], 1))\n",
    "X_test = np.concatenate((intercept, X_test), axis=1)\n",
    "\n",
    "\n",
    "class LogisticRegression:\n",
    "    \n",
    "    def __init__(self, method='mini-batch',max_iter=1000, alpha=0.001):\n",
    "        self.method = method\n",
    "        self.max_iter = max_iter\n",
    "        self.alpha = alpha\n",
    "    \n",
    "    def mini_batch_GD(self,X,y):\n",
    "        \n",
    "        self.w = np.zeros(X.shape[1])\n",
    "        \n",
    "        self.loss = []\n",
    "        self.iters = []\n",
    "        \n",
    "        batch_size = int(0.1 * X.shape[0])\n",
    "        \n",
    "        for i in range(self.max_iter):\n",
    "            \n",
    "            shuffled_index = np.random.permutation(X.shape[0])\n",
    "            X_shuffled = X[shuffled_index]\n",
    "            y_shuffled = y[shuffled_index]\n",
    "            \n",
    "            for index in range(0, X.shape[0], batch_size):\n",
    "                \n",
    "                batch_X = X_shuffled[index : index + batch_size]\n",
    "                batch_y = y_shuffled[index : index + batch_size]\n",
    "                \n",
    "                cost, grad = self.gradient(batch_X, batch_y, self.w)\n",
    "                self.w =self. w - self.alpha * grad\n",
    "                \n",
    "            if i % 500 ==0:\n",
    "                print(f\"Cost at iteration {i}\", cost)\n",
    "                self.loss.append(cost)\n",
    "                self.iters.append(i)\n",
    "                \n",
    "        return self.w, i\n",
    "    \n",
    "    def plot(self):\n",
    "        plt.plot(self.iters, self.loss, label='Training Losses')\n",
    "        plt.xlabel('num of iters')\n",
    "        plt.ylabel('training loss')\n",
    "        plt.title('Training loss vs number of iters')\n",
    "        plt.legend()\n",
    "    \n",
    "    def gradient(self, X, y, w):\n",
    "        m = X.shape[0]\n",
    "        h = self.h_theta(X)\n",
    "        error = h - y\n",
    "        cost = -np.sum(y * np.log(h) + (1 - y) * np.log(1 - h))\n",
    "        grad = np.dot(X.T, error)\n",
    "        return cost, grad\n",
    "    \n",
    "    def sigmoid(self, x):\n",
    "        return 1 / (1 + np.exp(-x))\n",
    "    \n",
    "    def h_theta(self,X):\n",
    "        return self.sigmoid(X @ self.w)\n",
    "    \n",
    "    def output(self, pred):\n",
    "        return np.round(pred)\n",
    "    "
   ]
  },
  {
   "cell_type": "code",
   "execution_count": 2,
   "id": "3c9630d5",
   "metadata": {},
   "outputs": [
    {
     "name": "stdout",
     "output_type": "stream",
     "text": [
      "Cost at iteration 0 21.894767459063946\n",
      "Cost at iteration 500 3.9802764622458784\n",
      "Cost at iteration 1000 2.1526499073387844\n",
      "Cost at iteration 1500 2.6833654964840115\n",
      "Cost at iteration 2000 1.0833427958125292\n",
      "Cost at iteration 2500 0.5268020598186669\n",
      "Cost at iteration 3000 8.875495348336152\n",
      "Cost at iteration 3500 1.0927125443140822\n",
      "Cost at iteration 4000 9.460303204735878\n",
      "Cost at iteration 4500 6.057560958389599\n",
      "Cost at iteration 5000 4.7974698773654\n",
      "Cost at iteration 5500 1.5059116196006843\n",
      "Cost at iteration 6000 1.4736132805995585\n",
      "Cost at iteration 6500 3.198262132300489\n",
      "Cost at iteration 7000 5.680414473126058\n",
      "Cost at iteration 7500 4.48386904920167\n",
      "Cost at iteration 8000 3.2387998282770964\n",
      "Cost at iteration 8500 0.9947289545766381\n",
      "Cost at iteration 9000 2.0526810866832577\n",
      "Cost at iteration 9500 5.435531898684679\n",
      "Cost at iteration 10000 4.657202415471979\n",
      "Cost at iteration 10500 3.714169372443161\n",
      "Cost at iteration 11000 3.226302459069786\n",
      "Cost at iteration 11500 2.4570972395260755\n",
      "Cost at iteration 12000 5.071341867389302\n",
      "Cost at iteration 12500 3.35666417967937\n",
      "Cost at iteration 13000 1.0037001052259504\n",
      "Cost at iteration 13500 5.698082461679926\n",
      "Cost at iteration 14000 5.735349848991046\n",
      "Cost at iteration 14500 1.199353800853145\n",
      "Cost at iteration 15000 3.0476069883643118\n",
      "Cost at iteration 15500 5.187029766250977\n",
      "Cost at iteration 16000 5.5724520099141595\n",
      "Cost at iteration 16500 1.2485483183661243\n",
      "Cost at iteration 17000 1.7810382628067136\n",
      "Cost at iteration 17500 4.049960114892228\n",
      "Cost at iteration 18000 6.563673657965543\n",
      "Cost at iteration 18500 4.726954947345768\n",
      "Cost at iteration 19000 1.0259713128736325\n",
      "Cost at iteration 19500 2.529774192902554\n"
     ]
    }
   ],
   "source": [
    "model = LogisticRegression(max_iter=20000)\n",
    "w, i = model.mini_batch_GD(X_train, y_train)"
   ]
  },
  {
   "cell_type": "code",
   "execution_count": 3,
   "id": "11559681",
   "metadata": {},
   "outputs": [
    {
     "data": {
      "image/png": "[encoded data removed]",
      "text/plain": [
       "<Figure size 432x288 with 1 Axes>"
      ]
     },
     "metadata": {
      "needs_background": "light"
     },
     "output_type": "display_data"
    }
   ],
   "source": [
    "model.plot()"
   ]
  },
  {
   "cell_type": "code",
   "execution_count": 4,
   "id": "56ae914c",
   "metadata": {},
   "outputs": [
    {
     "data": {
      "text/plain": [
       "array([0., 0., 0., 0., 1., 0., 0., 0., 0., 0., 0., 1., 1., 0., 1., 1., 0.,\n",
       "       0., 1., 0., 1., 1., 0., 0., 1., 1., 1., 1., 1., 1., 0., 1., 1., 1.,\n",
       "       1., 1., 1., 1., 0., 0., 1., 1., 0., 1., 0., 0., 1., 0., 1., 1., 0.,\n",
       "       1., 1., 0., 0., 1., 1., 0., 1., 1., 1., 0., 0., 0., 0., 1., 0., 0.,\n",
       "       1., 1., 0., 1., 1., 1., 0., 1., 0., 0., 1., 1., 0., 0., 1., 1., 1.,\n",
       "       0., 0., 1., 0., 1., 1., 0., 0., 1., 0., 1., 0., 0., 1., 0., 0., 1.,\n",
       "       0., 1., 0., 0., 1., 1., 1., 1., 0., 0., 1., 1., 1., 0., 0., 0., 0.,\n",
       "       1., 1., 1., 0., 1., 1., 0., 1., 1., 1., 1., 0., 1., 0., 0., 1., 1.,\n",
       "       1., 1., 1., 0., 0., 1., 0., 0., 0., 1., 1., 1., 1., 1.])"
      ]
     },
     "execution_count": 4,
     "metadata": {},
     "output_type": "execute_result"
    }
   ],
   "source": [
    "yhat = model.h_theta(X_test)\n",
    "y_pred = model.output(yhat)\n",
    "y_pred"
   ]
  },
  {
   "cell_type": "code",
   "execution_count": 5,
   "id": "05032fc2",
   "metadata": {},
   "outputs": [],
   "source": [
    "class classification_report:\n",
    "    \n",
    "    def __init__(self, actual, predict):\n",
    "        self.actual = actual\n",
    "        self.predict = predict\n",
    "        \n",
    "        self.TP = sum((self.actual == 1) & (self.predict == 1))\n",
    "        self.TN = sum((self.actual == 0) & (self.predict == 0))\n",
    "        self.FN = sum((self.actual == 1) & (self.predict == 0))\n",
    "        self.FP = sum((self.actual == 0) & (self.predict == 1))\n",
    "    \n",
    "    def accuracy(self):\n",
    "        self.acc = 100 * (self.TP + self.TN) / float(self.TP + self.TN + self.FP + self.FN)\n",
    "        return self.acc\n",
    "    \n",
    "    def precision(self):\n",
    "        self.pre = 100 * self.TP / float(self.TP + self.FP)\n",
    "        return self.pre\n",
    "    \n",
    "    def recall(self):\n",
    "        self.rec = 100 * self.TP / float(self.TP + self.FN)\n",
    "        return self.rec\n",
    "    \n",
    "    def f1(self):\n",
    "        self.F1 = 2 * (self.precision() * self.recall()) / (self.precision() + self.recall())\n",
    "        return self.F1"
   ]
  },
  {
   "cell_type": "code",
   "execution_count": 6,
   "id": "058fbb15",
   "metadata": {},
   "outputs": [
    {
     "name": "stdout",
     "output_type": "stream",
     "text": [
      "accuracy: 98.0\n",
      "recall: 97.59036144578313\n",
      "precision: 98.78048780487805\n",
      "f1: 98.18181818181817\n"
     ]
    }
   ],
   "source": [
    "report = classification_report(y_test, y_pred)\n",
    "accuracy = report.accuracy()\n",
    "recall = report.recall()\n",
    "precision = report.precision()\n",
    "f1 = report.f1()\n",
    "print(f\"accuracy: {accuracy}\")\n",
    "print(f\"recall: {recall}\")\n",
    "print(f\"precision: {precision}\")\n",
    "print(f\"f1: {f1}\")"
   ]
  },
  {
   "cell_type": "code",
   "execution_count": 7,
   "id": "4f46b6f6",
   "metadata": {},
   "outputs": [
    {
     "name": "stdout",
     "output_type": "stream",
     "text": [
      "Report:                precision    recall  f1-score   support\n",
      "\n",
      "           0       0.97      0.99      0.98        67\n",
      "           1       0.99      0.98      0.98        83\n",
      "\n",
      "    accuracy                           0.98       150\n",
      "   macro avg       0.98      0.98      0.98       150\n",
      "weighted avg       0.98      0.98      0.98       150\n",
      "\n"
     ]
    }
   ],
   "source": [
    "# checking wherethere it is correct or not\n",
    "from sklearn.metrics import classification_report\n",
    "print(\"Report: \", classification_report(y_test, y_pred))"
   ]
  },
  {
   "cell_type": "code",
   "execution_count": null,
   "id": "5d4c6498",
   "metadata": {},
   "outputs": [],
   "source": []
  }
 ],
 "metadata": {
  "kernelspec": {
   "display_name": "pythonDSAI",
   "language": "python",
   "name": "pythondsai"
  },
  "language_info": {
   "codemirror_mode": {
    "name": "ipython",
    "version": 3
   },
   "file_extension": ".py",
   "mimetype": "text/x-python",
   "name": "python",
   "nbconvert_exporter": "python",
   "pygments_lexer": "ipython3",
   "version": "3.8.3"
  }
 },
 "nbformat": 4,
 "nbformat_minor": 5
}
