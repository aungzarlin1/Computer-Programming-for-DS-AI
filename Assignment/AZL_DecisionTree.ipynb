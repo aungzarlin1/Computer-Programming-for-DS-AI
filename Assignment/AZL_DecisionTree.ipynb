{
 "cells": [
  {
   "cell_type": "code",
   "execution_count": 1,
   "id": "3a2c28da",
   "metadata": {},
   "outputs": [],
   "source": [
    "import numpy as np\n",
    "import matplotlib.pyplot as plt"
   ]
  },
  {
   "cell_type": "code",
   "execution_count": 2,
   "id": "efe176d6",
   "metadata": {},
   "outputs": [],
   "source": [
    "class Node:\n",
    "    \n",
    "    def __init__(self,  predicted_class):\n",
    "     \n",
    "        self.predicted_class = predicted_class\n",
    "        self.feature_index = 0\n",
    "        self.threshold = 0\n",
    "        self.left = None\n",
    "        self.right = None\n",
    "\n",
    "class DecisionTree:\n",
    "    \n",
    "    def __init__(self, X, y, max_depth):\n",
    "        self.max_depth = max_depth\n",
    "        self.n_classes = len(set(y))\n",
    "        self.n_features = X.shape[1]\n",
    "    \n",
    "    def find_split(self, X, y):\n",
    "        \n",
    "        n_samples = X.shape[0]\n",
    "    \n",
    "        if n_samples <= 1:\n",
    "            return None, None\n",
    "        \n",
    "        feature_ix, threshold = None, None\n",
    "        \n",
    "        sample_per_class_parent = [np.sum(y == c) for c in range(self.n_classes)]\n",
    "        \n",
    "        best_gini = 1.0 - sum((n / n_samples) ** 2 for n in sample_per_class_parent)\n",
    "        \n",
    "        for feature in range(self.n_features):\n",
    "            \n",
    "            sample_sorted = sorted(X[:, feature])\n",
    "            sort_idx = np.argsort(X[:, feature])\n",
    "            y_sorted = y[sort_idx]\n",
    "            \n",
    "            sample_per_class_left = [0] * self.n_classes\n",
    "            \n",
    "            sample_per_class_right = sample_per_class_parent.copy()\n",
    "            \n",
    "            for i in range(1, n_samples):\n",
    "                \n",
    "                c = y_sorted[i - 1]\n",
    "                \n",
    "                sample_per_class_left[c] += 1\n",
    "                \n",
    "                sample_per_class_right[c] -= 1\n",
    "                \n",
    "                gini_left = 1.0 - sum((sample_per_class_left[x] / i) ** 2 for x in range(self.n_classes))\n",
    "                \n",
    "                gini_right = 1.0 - sum((sample_per_class_right[x] / (n_samples - i)) ** 2 for x in range(self.n_classes))\n",
    "                \n",
    "                weighted_gini = ((i / n_samples) * gini_left) + ((n_samples - i)/ n_samples) * gini_right\n",
    "                \n",
    "                if sample_sorted[i] == sample_sorted[i - 1]:\n",
    "                    continue\n",
    "                    \n",
    "                if weighted_gini < best_gini:\n",
    "                    best_gini = weighted_gini\n",
    "                    feature_ix = feature\n",
    "                    threshold = (sample_sorted[i] + sample_sorted[i - 1]) / 2\n",
    "        \n",
    "        return feature_ix, threshold\n",
    "    \n",
    "    def fit(self, X, y,depth=0):\n",
    "        \n",
    "        num_samples_per_class = [np.sum(y == i) for i in range(self.n_classes)]\n",
    "        \n",
    "        predicted_class = np.argmax(num_samples_per_class)\n",
    "\n",
    "        node = Node(predicted_class = predicted_class)\n",
    "        \n",
    "        if depth < self.max_depth:\n",
    "            feature, threshold = self.find_split(X, y)\n",
    "            \n",
    "            if feature is not None:\n",
    "                indices_left = X[:, feature] < threshold\n",
    "                X_left, y_left = X[indices_left], y[indices_left]\n",
    "                X_right, y_right = X[~indices_left], y[~indices_left]\n",
    "                node.feature_index = feature\n",
    "                node.threshold = threshold\n",
    "                node.left = self.fit(X_left, y_left, depth + 1)\n",
    "                node.right = self.fit(X_right, y_right, depth + 1)\n",
    "        return node\n",
    "    \n",
    "    def _predict(self, sample, tree):\n",
    "        while tree.left:\n",
    "            if sample[tree.feature_index] < tree.threshold:\n",
    "                tree = tree.left\n",
    "            else:\n",
    "                tree = tree.right\n",
    "        \n",
    "        return tree.predicted_class\n",
    "    \n",
    "    def predict(self, X, tree):\n",
    "        return [self._predict(sample , tree) for sample in X]"
   ]
  },
  {
   "cell_type": "code",
   "execution_count": 3,
   "id": "f9bff3d3",
   "metadata": {},
   "outputs": [
    {
     "name": "stdout",
     "output_type": "stream",
     "text": [
      "[2]\n"
     ]
    }
   ],
   "source": [
    "import sys\n",
    "from sklearn.datasets import load_iris\n",
    "\n",
    "dataset = load_iris()\n",
    "\n",
    "X, y = dataset.data, dataset.target\n",
    "clf = DecisionTree(X, y, max_depth=10)\n",
    "tree = clf.fit(X,y)\n",
    "print(clf.predict([[0,0,5,1.5]], tree))"
   ]
  },
  {
   "cell_type": "code",
   "execution_count": 4,
   "id": "aba54ee9",
   "metadata": {},
   "outputs": [
    {
     "name": "stdout",
     "output_type": "stream",
     "text": [
      "Best feature used for split:  0\n",
      "Best threshold used for split:  6.5\n"
     ]
    }
   ],
   "source": [
    "\n",
    "X = np.array([[2],[3],[10],[19]])\n",
    "y = np.array([0, 0, 1, 1])\n",
    "\n",
    "model = DecisionTree(X, y, max_depth=1)\n",
    "feature, threshold = model.find_split(X, y)\n",
    "\n",
    "#will print 0, 6.5\n",
    "print(\"Best feature used for split: \", feature)\n",
    "print(\"Best threshold used for split: \", threshold)"
   ]
  },
  {
   "cell_type": "code",
   "execution_count": 5,
   "id": "d0d52205",
   "metadata": {},
   "outputs": [
    {
     "name": "stdout",
     "output_type": "stream",
     "text": [
      "Tree feature ind:  0\n",
      "Tree threshold:  6.5\n",
      "Pred:  [0 0 1 1]\n",
      "ytest:  [0 0 1 1]\n"
     ]
    }
   ],
   "source": [
    "Xtrain = np.array([[2, 5],[3, 5],[10, 5],[19, 5]])\n",
    "ytrain = np.array([0, 0, 1, 1])\n",
    "Xtest = np.array(([[4, 6],[6, 9],[9, 2],[12, 8]]))\n",
    "ytest = np.array([0, 0, 1, 1])\n",
    "\n",
    "model = DecisionTree(X, y, max_depth=3)\n",
    "tree = model.fit(Xtrain, ytrain)\n",
    "pred = model.predict(X, tree)\n",
    "\n",
    "print(\"Tree feature ind: \", tree.feature_index)\n",
    "print(\"Tree threshold: \", tree.threshold)\n",
    "print(\"Pred: \", np.array(pred))\n",
    "print(\"ytest: \", ytest)"
   ]
  },
  {
   "cell_type": "code",
   "execution_count": null,
   "id": "7c994a75",
   "metadata": {},
   "outputs": [],
   "source": []
  }
 ],
 "metadata": {
  "kernelspec": {
   "display_name": "Python 3 (ipykernel)",
   "language": "python",
   "name": "python3"
  },
  "language_info": {
   "codemirror_mode": {
    "name": "ipython",
    "version": 3
   },
   "file_extension": ".py",
   "mimetype": "text/x-python",
   "name": "python",
   "nbconvert_exporter": "python",
   "pygments_lexer": "ipython3",
   "version": "3.8.3"
  }
 },
 "nbformat": 4,
 "nbformat_minor": 5
}
